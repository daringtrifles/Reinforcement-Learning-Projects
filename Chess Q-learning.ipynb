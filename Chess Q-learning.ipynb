{
 "cells": [
  {
   "cell_type": "code",
   "execution_count": 1,
   "id": "a30aa08c",
   "metadata": {
    "_cell_guid": "b1076dfc-b9ad-4769-8c92-a6c4dae69d19",
    "_uuid": "8f2839f25d086af736a60e9eeb907d3b93b6e0e5",
    "execution": {
     "iopub.execute_input": "2022-06-16T07:29:06.505766Z",
     "iopub.status.busy": "2022-06-16T07:29:06.505298Z",
     "iopub.status.idle": "2022-06-16T07:29:06.515950Z",
     "shell.execute_reply": "2022-06-16T07:29:06.515246Z"
    },
    "papermill": {
     "duration": 0.024108,
     "end_time": "2022-06-16T07:29:06.518518",
     "exception": false,
     "start_time": "2022-06-16T07:29:06.494410",
     "status": "completed"
    },
    "tags": []
   },
   "outputs": [],
   "source": [
    "import json\n",
    "f = open(\"./qtableeasier.json\", \"x\")"
   ]
  },
  {
   "cell_type": "code",
   "execution_count": 2,
   "id": "590733fc",
   "metadata": {
    "execution": {
     "iopub.execute_input": "2022-06-16T07:29:06.531529Z",
     "iopub.status.busy": "2022-06-16T07:29:06.530786Z",
     "iopub.status.idle": "2022-06-16T07:29:21.823864Z",
     "shell.execute_reply": "2022-06-16T07:29:21.822484Z"
    },
    "papermill": {
     "duration": 15.302478,
     "end_time": "2022-06-16T07:29:21.826647",
     "exception": false,
     "start_time": "2022-06-16T07:29:06.524169",
     "status": "completed"
    },
    "tags": []
   },
   "outputs": [
    {
     "name": "stdout",
     "output_type": "stream",
     "text": [
      "Collecting chess\r\n",
      "  Downloading chess-1.9.1-py3-none-any.whl (148 kB)\r\n",
      "\u001b[2K     \u001b[90m━━━━━━━━━━━━━━━━━━━━━━━━━━━━━━━━━━━━━\u001b[0m \u001b[32m148.0/148.0 kB\u001b[0m \u001b[31m350.9 kB/s\u001b[0m eta \u001b[36m0:00:00\u001b[0m\r\n",
      "\u001b[?25hInstalling collected packages: chess\r\n",
      "Successfully installed chess-1.9.1\r\n",
      "\u001b[33mWARNING: Running pip as the 'root' user can result in broken permissions and conflicting behaviour with the system package manager. It is recommended to use a virtual environment instead: https://pip.pypa.io/warnings/venv\u001b[0m\u001b[33m\r\n",
      "\u001b[0m"
     ]
    }
   ],
   "source": [
    "!pip install chess"
   ]
  },
  {
   "cell_type": "code",
   "execution_count": 3,
   "id": "46755d9b",
   "metadata": {
    "execution": {
     "iopub.execute_input": "2022-06-16T07:29:21.841134Z",
     "iopub.status.busy": "2022-06-16T07:29:21.840712Z",
     "iopub.status.idle": "2022-06-16T07:29:21.963197Z",
     "shell.execute_reply": "2022-06-16T07:29:21.962028Z"
    },
    "papermill": {
     "duration": 0.132881,
     "end_time": "2022-06-16T07:29:21.965936",
     "exception": false,
     "start_time": "2022-06-16T07:29:21.833055",
     "status": "completed"
    },
    "tags": []
   },
   "outputs": [],
   "source": [
    "import chess\n",
    "import numpy as np\n",
    "q={}"
   ]
  },
  {
   "cell_type": "code",
   "execution_count": 4,
   "id": "4f99a717",
   "metadata": {
    "execution": {
     "iopub.execute_input": "2022-06-16T07:29:21.980426Z",
     "iopub.status.busy": "2022-06-16T07:29:21.979988Z",
     "iopub.status.idle": "2022-06-16T07:29:21.986212Z",
     "shell.execute_reply": "2022-06-16T07:29:21.984923Z"
    },
    "papermill": {
     "duration": 0.016028,
     "end_time": "2022-06-16T07:29:21.988316",
     "exception": false,
     "start_time": "2022-06-16T07:29:21.972288",
     "status": "completed"
    },
    "tags": []
   },
   "outputs": [],
   "source": [
    "def convert_moves_list (legalMoves):\n",
    "  moves = str(legalMoves)\n",
    "  return moves[moves.index('(')+1:moves.index(')')].split(', ')\n"
   ]
  },
  {
   "cell_type": "code",
   "execution_count": 5,
   "id": "dc6792a0",
   "metadata": {
    "execution": {
     "iopub.execute_input": "2022-06-16T07:29:22.002617Z",
     "iopub.status.busy": "2022-06-16T07:29:22.002238Z",
     "iopub.status.idle": "2022-06-16T07:29:22.007922Z",
     "shell.execute_reply": "2022-06-16T07:29:22.006621Z"
    },
    "papermill": {
     "duration": 0.0158,
     "end_time": "2022-06-16T07:29:22.010457",
     "exception": false,
     "start_time": "2022-06-16T07:29:21.994657",
     "status": "completed"
    },
    "tags": []
   },
   "outputs": [],
   "source": [
    "def checkDone (board):\n",
    "  return board.is_checkmate() or board.is_stalemate() or board.is_insufficient_material()"
   ]
  },
  {
   "cell_type": "code",
   "execution_count": 6,
   "id": "411f4782",
   "metadata": {
    "execution": {
     "iopub.execute_input": "2022-06-16T07:29:22.025526Z",
     "iopub.status.busy": "2022-06-16T07:29:22.024859Z",
     "iopub.status.idle": "2022-06-16T07:29:22.030310Z",
     "shell.execute_reply": "2022-06-16T07:29:22.029286Z"
    },
    "papermill": {
     "duration": 0.015477,
     "end_time": "2022-06-16T07:29:22.032299",
     "exception": false,
     "start_time": "2022-06-16T07:29:22.016822",
     "status": "completed"
    },
    "tags": []
   },
   "outputs": [],
   "source": [
    "def giveReward (board):\n",
    "  if not checkDone(board): return -5\n",
    "  if board.is_checkmate():\n",
    "    return 100\n",
    "  if board.is_stalemate() or board.is_insufficient_material():\n",
    "    return -100"
   ]
  },
  {
   "cell_type": "code",
   "execution_count": 7,
   "id": "bdbe084d",
   "metadata": {
    "execution": {
     "iopub.execute_input": "2022-06-16T07:29:22.047414Z",
     "iopub.status.busy": "2022-06-16T07:29:22.046950Z",
     "iopub.status.idle": "2022-06-16T07:29:22.053628Z",
     "shell.execute_reply": "2022-06-16T07:29:22.052427Z"
    },
    "papermill": {
     "duration": 0.016748,
     "end_time": "2022-06-16T07:29:22.055896",
     "exception": false,
     "start_time": "2022-06-16T07:29:22.039148",
     "status": "completed"
    },
    "tags": []
   },
   "outputs": [],
   "source": [
    "def addKeys (board):\n",
    "  if hash(board) not in q.keys():\n",
    "    q[hash(board)] = {}\n",
    "  valid_moves = convert_moves_list(board.legal_moves)\n",
    "  for i in valid_moves:\n",
    "    if i not in q[hash(board)].keys():\n",
    "      q[hash(board)][i] = 0\n"
   ]
  },
  {
   "cell_type": "code",
   "execution_count": 8,
   "id": "3877319d",
   "metadata": {
    "execution": {
     "iopub.execute_input": "2022-06-16T07:29:22.070711Z",
     "iopub.status.busy": "2022-06-16T07:29:22.070304Z",
     "iopub.status.idle": "2022-06-16T07:29:22.074797Z",
     "shell.execute_reply": "2022-06-16T07:29:22.074131Z"
    },
    "papermill": {
     "duration": 0.014321,
     "end_time": "2022-06-16T07:29:22.076880",
     "exception": false,
     "start_time": "2022-06-16T07:29:22.062559",
     "status": "completed"
    },
    "tags": []
   },
   "outputs": [],
   "source": [
    "def random_agent (board):\n",
    "  valid_moves = convert_moves_list(board.legal_moves)\n",
    "  board.push_san(np.random.choice(valid_moves))\n",
    "  return board"
   ]
  },
  {
   "cell_type": "code",
   "execution_count": 9,
   "id": "47cfb2a2",
   "metadata": {
    "execution": {
     "iopub.execute_input": "2022-06-16T07:29:22.091428Z",
     "iopub.status.busy": "2022-06-16T07:29:22.091036Z",
     "iopub.status.idle": "2022-06-16T07:29:22.094870Z",
     "shell.execute_reply": "2022-06-16T07:29:22.094184Z"
    },
    "papermill": {
     "duration": 0.013506,
     "end_time": "2022-06-16T07:29:22.096751",
     "exception": false,
     "start_time": "2022-06-16T07:29:22.083245",
     "status": "completed"
    },
    "tags": []
   },
   "outputs": [],
   "source": [
    "def hash(board):\n",
    "  return board.fen()"
   ]
  },
  {
   "cell_type": "code",
   "execution_count": 10,
   "id": "5ae67784",
   "metadata": {
    "execution": {
     "iopub.execute_input": "2022-06-16T07:29:22.111044Z",
     "iopub.status.busy": "2022-06-16T07:29:22.110675Z",
     "iopub.status.idle": "2022-06-16T07:29:22.122756Z",
     "shell.execute_reply": "2022-06-16T07:29:22.121522Z"
    },
    "papermill": {
     "duration": 0.021892,
     "end_time": "2022-06-16T07:29:22.125234",
     "exception": false,
     "start_time": "2022-06-16T07:29:22.103342",
     "status": "completed"
    },
    "tags": []
   },
   "outputs": [],
   "source": [
    "def game(startingFen):\n",
    "  \n",
    "  board = chess.Board(startingFen)\n",
    "  moveNumber = 0\n",
    "  while True:\n",
    "    moveNumber+=1\n",
    "    if moveNumber > 50: return\n",
    "    gamma = 0.8\n",
    "    alpha = 0.2\n",
    "    epsilon = 0.4\n",
    "    addKeys(board)\n",
    "    #print(board.legal_moves)\n",
    "    valid_moves = convert_moves_list(board.legal_moves)\n",
    "    move = \"\"\n",
    "    reward = 0\n",
    "\n",
    "    if np.random.uniform(0, 1)< epsilon:\n",
    "        move= np.random.choice(valid_moves)\n",
    "    else:\n",
    "      move = max(zip(q[hash(board)].values(), q[hash(board)].keys()))[1]\n",
    "    newboard = board.copy()\n",
    "    newboard.push_san(move)\n",
    "    reward += giveReward(newboard)\n",
    "    if not checkDone(newboard):\n",
    "      newboard = random_agent(newboard)\n",
    "    addKeys(newboard)\n",
    "    q[hash(board)][move] = (1-alpha)*q[hash(board)][move] + alpha * (reward + gamma*max(q[hash(newboard)].values()))  \n",
    "    board = newboard\n",
    "    if checkDone(board): return"
   ]
  },
  {
   "cell_type": "code",
   "execution_count": 11,
   "id": "8f7a3a95",
   "metadata": {
    "execution": {
     "iopub.execute_input": "2022-06-16T07:29:22.140180Z",
     "iopub.status.busy": "2022-06-16T07:29:22.139734Z",
     "iopub.status.idle": "2022-06-16T07:29:22.148390Z",
     "shell.execute_reply": "2022-06-16T07:29:22.147385Z"
    },
    "papermill": {
     "duration": 0.018666,
     "end_time": "2022-06-16T07:29:22.150419",
     "exception": false,
     "start_time": "2022-06-16T07:29:22.131753",
     "status": "completed"
    },
    "tags": []
   },
   "outputs": [],
   "source": [
    "\n",
    "successes = []\n",
    "def testGame(startingFen):\n",
    "  \n",
    "  board = chess.Board(startingFen)\n",
    "  moveNumber = 0\n",
    "  while True:\n",
    "    if hash(board) not in q.keys():\n",
    "      successes.append(0)\n",
    "      return\n",
    "    moveNumber+=1\n",
    "    if moveNumber > 50: \n",
    "      successes.append(0)\n",
    "      return\n",
    "    move = max(zip(q[hash(board)].values(), q[hash(board)].keys()))[1]\n",
    "    board.push_san(move)\n",
    "    if not checkDone(board):\n",
    "      board = random_agent(board)\n",
    "    else:\n",
    "      if board.is_checkmate():\n",
    "        successes.append(1)\n",
    "      else:\n",
    "        successes.append(0)\n",
    "      return"
   ]
  },
  {
   "cell_type": "code",
   "execution_count": 12,
   "id": "62f0e898",
   "metadata": {
    "execution": {
     "iopub.execute_input": "2022-06-16T07:29:22.165162Z",
     "iopub.status.busy": "2022-06-16T07:29:22.164736Z",
     "iopub.status.idle": "2022-06-16T12:34:02.782223Z",
     "shell.execute_reply": "2022-06-16T12:34:02.780961Z"
    },
    "papermill": {
     "duration": 18280.628157,
     "end_time": "2022-06-16T12:34:02.784800",
     "exception": false,
     "start_time": "2022-06-16T07:29:22.156643",
     "status": "completed"
    },
    "tags": []
   },
   "outputs": [
    {
     "name": "stdout",
     "output_type": "stream",
     "text": [
      "0.0\n",
      "1.0\n",
      "2.0\n",
      "3.0\n",
      "4.0\n",
      "5.0\n",
      "6.0\n",
      "7.000000000000001\n",
      "8.0\n",
      "9.0\n",
      "10.0\n",
      "11.0\n",
      "12.0\n",
      "13.0\n",
      "14.000000000000002\n",
      "15.0\n",
      "16.0\n",
      "17.0\n",
      "18.0\n",
      "19.0\n",
      "20.0\n",
      "21.0\n",
      "22.0\n",
      "23.0\n",
      "24.0\n",
      "25.0\n",
      "26.0\n",
      "27.0\n",
      "28.000000000000004\n",
      "28.999999999999996\n",
      "30.0\n",
      "31.0\n",
      "32.0\n",
      "33.0\n",
      "34.0\n",
      "35.0\n",
      "36.0\n",
      "37.0\n",
      "38.0\n",
      "39.0\n",
      "40.0\n",
      "41.0\n",
      "42.0\n",
      "43.0\n",
      "44.0\n",
      "45.0\n",
      "46.0\n",
      "47.0\n",
      "48.0\n",
      "49.0\n",
      "50.0\n",
      "51.0\n",
      "52.0\n",
      "53.0\n",
      "54.0\n",
      "55.00000000000001\n",
      "56.00000000000001\n",
      "56.99999999999999\n",
      "57.99999999999999\n",
      "59.0\n",
      "60.0\n",
      "61.0\n",
      "62.0\n",
      "63.0\n",
      "64.0\n",
      "65.0\n",
      "66.0\n",
      "67.0\n",
      "68.0\n",
      "69.0\n",
      "70.0\n",
      "71.0\n",
      "72.0\n",
      "73.0\n",
      "74.0\n",
      "75.0\n",
      "76.0\n",
      "77.0\n",
      "78.0\n",
      "79.0\n",
      "80.0\n",
      "81.0\n",
      "82.0\n",
      "83.0\n",
      "84.0\n",
      "85.0\n",
      "86.0\n",
      "87.0\n",
      "88.0\n",
      "89.0\n",
      "90.0\n",
      "91.0\n",
      "92.0\n",
      "93.0\n",
      "94.0\n",
      "95.0\n",
      "96.0\n",
      "97.0\n",
      "98.0\n",
      "99.0\n"
     ]
    }
   ],
   "source": [
    "games = 100*1000\n",
    "fen = 'k7/8/8/8/3QK3/8/8/8 w - - 8 5'\n",
    "for i in range (games):\n",
    "  game(fen)\n",
    "  if i%(games/100)==0:print(i/games*100) "
   ]
  },
  {
   "cell_type": "code",
   "execution_count": 13,
   "id": "73ac8ad3",
   "metadata": {
    "execution": {
     "iopub.execute_input": "2022-06-16T12:34:02.813027Z",
     "iopub.status.busy": "2022-06-16T12:34:02.812635Z",
     "iopub.status.idle": "2022-06-16T12:34:03.008904Z",
     "shell.execute_reply": "2022-06-16T12:34:03.007884Z"
    },
    "papermill": {
     "duration": 0.212982,
     "end_time": "2022-06-16T12:34:03.011245",
     "exception": false,
     "start_time": "2022-06-16T12:34:02.798263",
     "status": "completed"
    },
    "tags": []
   },
   "outputs": [
    {
     "data": {
      "text/plain": [
       "1.0"
      ]
     },
     "execution_count": 13,
     "metadata": {},
     "output_type": "execute_result"
    }
   ],
   "source": [
    "for i in range (100):\n",
    "  testGame(fen)\n",
    "sum(successes)/100"
   ]
  },
  {
   "cell_type": "code",
   "execution_count": 14,
   "id": "1c52b8e7",
   "metadata": {
    "execution": {
     "iopub.execute_input": "2022-06-16T12:34:03.039245Z",
     "iopub.status.busy": "2022-06-16T12:34:03.038805Z",
     "iopub.status.idle": "2022-06-16T12:34:14.697519Z",
     "shell.execute_reply": "2022-06-16T12:34:14.696509Z"
    },
    "papermill": {
     "duration": 11.675499,
     "end_time": "2022-06-16T12:34:14.699966",
     "exception": false,
     "start_time": "2022-06-16T12:34:03.024467",
     "status": "completed"
    },
    "tags": []
   },
   "outputs": [],
   "source": [
    "with open('./qtableeasier.txt', 'w') as convert_file:\n",
    "     convert_file.write(json.dumps(q))"
   ]
  },
  {
   "cell_type": "code",
   "execution_count": null,
   "id": "56ec77bc",
   "metadata": {
    "papermill": {
     "duration": 0.013299,
     "end_time": "2022-06-16T12:34:14.726749",
     "exception": false,
     "start_time": "2022-06-16T12:34:14.713450",
     "status": "completed"
    },
    "tags": []
   },
   "outputs": [],
   "source": []
  },
  {
   "cell_type": "code",
   "execution_count": null,
   "id": "80b54560",
   "metadata": {
    "papermill": {
     "duration": 0.013154,
     "end_time": "2022-06-16T12:34:14.753074",
     "exception": false,
     "start_time": "2022-06-16T12:34:14.739920",
     "status": "completed"
    },
    "tags": []
   },
   "outputs": [],
   "source": []
  },
  {
   "cell_type": "code",
   "execution_count": null,
   "id": "c8757ba0",
   "metadata": {
    "papermill": {
     "duration": 0.012703,
     "end_time": "2022-06-16T12:34:14.778889",
     "exception": false,
     "start_time": "2022-06-16T12:34:14.766186",
     "status": "completed"
    },
    "tags": []
   },
   "outputs": [],
   "source": []
  }
 ],
 "metadata": {
  "kernelspec": {
   "display_name": "Python 3",
   "language": "python",
   "name": "python3"
  },
  "language_info": {
   "codemirror_mode": {
    "name": "ipython",
    "version": 3
   },
   "file_extension": ".py",
   "mimetype": "text/x-python",
   "name": "python",
   "nbconvert_exporter": "python",
   "pygments_lexer": "ipython3",
   "version": "3.7.12"
  },
  "papermill": {
   "default_parameters": {},
   "duration": 18322.039072,
   "end_time": "2022-06-16T12:34:17.648438",
   "environment_variables": {},
   "exception": null,
   "input_path": "__notebook__.ipynb",
   "output_path": "__notebook__.ipynb",
   "parameters": {},
   "start_time": "2022-06-16T07:28:55.609366",
   "version": "2.3.4"
  }
 },
 "nbformat": 4,
 "nbformat_minor": 5
}
